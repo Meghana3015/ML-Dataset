{
  "cells": [
    {
      "cell_type": "markdown",
      "source": [
        "# **Dataset's**"
      ],
      "metadata": {
        "id": "4gyXS8T0dzb3"
      },
      "id": "4gyXS8T0dzb3"
    },
    {
      "cell_type": "code",
      "source": [
        "!git clone https://github.com/Meghana3015/ML-Dataset.git\n",
        "!mkdir -p datasets\n",
        "!mv ML-Dataset/* datasets/\n",
        "!rm -rf ML-Dataset\n",
        "!ls datasets\n",
        "!mv /content/datasets/ML\\ Lab\\ Exercise\\ 9\\ Dataset /content/datasets/data"
      ],
      "metadata": {
        "colab": {
          "base_uri": "https://localhost:8080/"
        },
        "id": "_HAM1KKcUCgN",
        "outputId": "ca081c23-5782-4560-d571-3e53e324b923"
      },
      "id": "_HAM1KKcUCgN",
      "execution_count": 1,
      "outputs": [
        {
          "output_type": "stream",
          "name": "stdout",
          "text": [
            "Cloning into 'ML-Dataset'...\n",
            "remote: Enumerating objects: 24, done.\u001b[K\n",
            "remote: Counting objects: 100% (24/24), done.\u001b[K\n",
            "remote: Compressing objects: 100% (24/24), done.\u001b[K\n",
            "remote: Total 24 (delta 0), reused 0 (delta 0), pack-reused 0 (from 0)\u001b[K\n",
            "Receiving objects: 100% (24/24), 27.81 KiB | 5.56 MiB/s, done.\n",
            "'co2_emission_train - Regression.csv'   Product_Data.csv\n",
            "'ML Lab Exercise 9 Dataset'\t        weather_data.csv\n"
          ]
        }
      ]
    },
    {
      "cell_type": "markdown",
      "source": [
        "# **DB Connect**"
      ],
      "metadata": {
        "id": "jmQhwYmyNB7U"
      },
      "id": "jmQhwYmyNB7U"
    },
    {
      "cell_type": "code",
      "execution_count": 2,
      "id": "0fd2a491",
      "metadata": {
        "colab": {
          "base_uri": "https://localhost:8080/"
        },
        "id": "0fd2a491",
        "outputId": "fca2e304-78ad-471f-d860-a0651a642c80"
      },
      "outputs": [
        {
          "output_type": "stream",
          "name": "stdout",
          "text": [
            "Data from /content/datasets/co2_emission_train - Regression.csv has been successfully inserted into co2-emission-data.db.\n"
          ]
        }
      ],
      "source": [
        " import sqlite3\n",
        " import pandas as pd\n",
        " # Load the CSV file into a pandas DataFrame\n",
        " csv_file_path = '/content/datasets/co2_emission_train - Regression.csv'\n",
        " data = pd.read_csv(csv_file_path)\n",
        " # Connect to the SQLite database (or create it if it doesn't exist)\n",
        " db_path = 'co2-emission-data.db'\n",
        " conn = sqlite3.connect(db_path)\n",
        " cursor = conn.cursor()\n",
        " # Create the table\n",
        " cursor.execute('''\n",
        " CREATE TABLE IF NOT EXISTS co2_emission_data (\n",
        " Engine_Size_liters REAL,\n",
        " Cylinders_count INTEGER,\n",
        " Fuel_Consumption_liters_per_100km REAL,\n",
        " Vehicle_Weight_kg INTEGER,\n",
        " Horsepower_hp INTEGER,\n",
        " Age_years INTEGER,\n",
        " CO2_Emissions_g_per_km REAL\n",
        " )\n",
        " ''')\n",
        " for index, row in data.iterrows():\n",
        "     cursor.execute('''\n",
        "     INSERT INTO co2_emission_data (\n",
        "     Engine_Size_liters,\n",
        "     Cylinders_count,\n",
        "     Fuel_Consumption_liters_per_100km,\n",
        "     Vehicle_Weight_kg,\n",
        "     Horsepower_hp,\n",
        "     Age_years,\n",
        "     CO2_Emissions_g_per_km\n",
        "     ) VALUES (?, ?, ?, ?, ?, ?, ?)\n",
        "     ''', (row['Engine_Size (liters)'], # Use actual column name\n",
        "row['Cylinders (count)'],\n",
        " # Use actual column name\n",
        " row['Fuel_Consumption (liters/100km)'], # Use actual column name\n",
        " row['Vehicle_Weight (kg)'], # Use actual column name\n",
        " row['Horsepower (hp)'],\n",
        " row['Age (years)'],\n",
        " # Use actual column name\n",
        " # Use actual column name\n",
        " row['CO2_Emissions (g/km)'])) # Use actual column name\n",
        " # Commit the transaction and close the connection\n",
        " conn.commit()\n",
        " conn.close()\n",
        " print(f\"Data from {csv_file_path} has been successfully inserted into {db_path}.\")"
      ]
    },
    {
      "cell_type": "code",
      "source": [
        "import sqlite3\n",
        "import pandas as pd\n",
        "from sklearn.model_selection import train_test_split\n",
        "db_path = 'co2-emission-data.db'\n",
        "conn = sqlite3.connect(db_path)\n",
        "query = \"SELECT * FROM co2_emission_data\"\n",
        "df = pd.read_sql_query(query, conn)\n",
        "conn.close()\n",
        "csv_file_path = 'extracted_data.csv'\n",
        "df.to_csv(csv_file_path, index=False)\n",
        "df_csv = pd.read_csv(csv_file_path)\n",
        "print(\"First 5 rows of data from CSV file\")\n",
        "print(df_csv.head(5))\n",
        "train_data, test_data = train_test_split(df_csv, test_size=0.2)\n",
        "print(\"Training data\")\n",
        "print(train_data.head(5))\n",
        "print(\"Testing data\")\n",
        "print(test_data.head(5))"
      ],
      "metadata": {
        "colab": {
          "base_uri": "https://localhost:8080/"
        },
        "id": "vo2JASpgR-MT",
        "outputId": "7bfe1b35-3023-41fb-ccec-78c66aa5e132"
      },
      "id": "vo2JASpgR-MT",
      "execution_count": 3,
      "outputs": [
        {
          "output_type": "stream",
          "name": "stdout",
          "text": [
            "First 5 rows of data from CSV file\n",
            "   Engine_Size_liters  Cylinders_count  Fuel_Consumption_liters_per_100km  \\\n",
            "0                 4.0                3                               16.0   \n",
            "1                 5.0               11                               14.0   \n",
            "2                 3.0                9                               20.0   \n",
            "3                 5.0               11                               10.0   \n",
            "4                 5.0               10                               20.0   \n",
            "\n",
            "   Vehicle_Weight_kg  Horsepower_hp  Age_years  CO2_Emissions_g_per_km  \n",
            "0               2445            197          3                  412.95  \n",
            "1               1103             87         12                  444.85  \n",
            "2               2875            350         16                  543.75  \n",
            "3               1253            292         19                  410.85  \n",
            "4               2250            123          5                  550.80  \n",
            "Training data\n",
            "    Engine_Size_liters  Cylinders_count  Fuel_Consumption_liters_per_100km  \\\n",
            "9                  5.0                3                               12.0   \n",
            "17                 6.0                9                                6.0   \n",
            "98                 1.0                4                               12.0   \n",
            "30                 3.0                3                               17.0   \n",
            "20                 5.0                4                               15.0   \n",
            "\n",
            "    Vehicle_Weight_kg  Horsepower_hp  Age_years  CO2_Emissions_g_per_km  \n",
            "9                1152            183         14                  312.90  \n",
            "17               2186            315          5                  447.80  \n",
            "98               2279            347         14                  312.65  \n",
            "30               2415            390          2                  425.75  \n",
            "20               2704            239          4                  462.10  \n",
            "Testing data\n",
            "    Engine_Size_liters  Cylinders_count  Fuel_Consumption_liters_per_100km  \\\n",
            "70                 6.0                7                               16.0   \n",
            "85                 4.0                7                                7.0   \n",
            "59                 4.0                3                               19.0   \n",
            "77                 2.0                6                                9.0   \n",
            "36                 6.0                9                                7.0   \n",
            "\n",
            "    Vehicle_Weight_kg  Horsepower_hp  Age_years  CO2_Emissions_g_per_km  \n",
            "70               2535            216          9                  500.35  \n",
            "85               1496             70         17                  299.80  \n",
            "59               1959            172         19                  388.15  \n",
            "77               2396            298         17                  336.60  \n",
            "36               1687            357          1                  451.05  \n"
          ]
        }
      ]
    },
    {
      "cell_type": "markdown",
      "source": [
        "# **Linear Regression**"
      ],
      "metadata": {
        "id": "bqwLpKC4Ng4B"
      },
      "id": "bqwLpKC4Ng4B"
    },
    {
      "cell_type": "code",
      "source": [
        "import pandas as pd\n",
        "from sklearn.model_selection import cross_val_score\n",
        "from sklearn.linear_model import LinearRegression\n",
        "from sklearn.preprocessing import StandardScaler\n",
        "from sklearn.metrics import mean_squared_error\n",
        "# Load the dataset from a CSV file\n",
        "data = pd.read_csv(\"/content/datasets/Product_Data.csv\")\n",
        "# Separate the features (X) and target (y)\n",
        "X = data[['Product Price (INR)', 'Product Quality (1 to 10)', 'Discount (%)','Store Visibility (1 to 10)', 'Seasonality (1 for seasonal, 0 for not)']]\n",
        "y = data['Sales (INR)']\n",
        "# Perform standardization on the features\n",
        "scaler = StandardScaler()\n",
        "X_scaled = scaler.fit_transform(X)\n",
        "# Initialize the Linear Regression model\n",
        "model = LinearRegression()\n",
        "# Perform 10-fold cross-validation using R² score\n",
        "cv_scores_r2 = cross_val_score(model, X_scaled, y, cv=10, scoring='r2')\n",
        "# Perform 10-fold cross-validation using MSE (negative MSE because cross_val_score minimizes it)\n",
        "cv_scores_mse = cross_val_score(model, X_scaled, y, cv=10, scoring='neg_mean_squared_error')\n",
        "# Calculate mean cross-validation R² and MSE\n",
        "mean_cv_r2 = cv_scores_r2.mean()\n",
        "mean_cv_mse =-cv_scores_mse.mean() # Negate MSE to get positive values\n",
        "# Output performance metrics\n",
        "print(f\"Mean Cross-Validation R² (10-Fold): {mean_cv_r2}\")\n",
        "print(f\"Mean Cross-Validation MSE (10-Fold): {mean_cv_mse}\")\n",
        "# Function to prompt user input and predict sales\n",
        "def predict_sales(model, scaler):\n",
        "    try:\n",
        "        # Collect user inputs for each feature\n",
        "        product_price = float(input(\"Enter the product price in INR: \"))\n",
        "        product_quality = int(input(\"Enter the product quality (1 to 10): \"))\n",
        "        discount = int(input(\"Enter the discount percentage (0 to 50): \"))\n",
        "        store_visibility = int(input(\"Enter the store visibility (1 to 10): \"))\n",
        "        seasonality = int(input(\"Is the product seasonal? (1 for Yes, 0 for No):\"))\n",
        "        # Create a DataFrame for the input data\n",
        "        user_input = pd.DataFrame({\n",
        "            'Product Price (INR)': [product_price],\n",
        "            'Product Quality (1 to 10)': [product_quality],\n",
        "            'Discount (%)': [discount],\n",
        "            'Store Visibility (1 to 10)': [store_visibility],\n",
        "            'Seasonality (1 for seasonal, 0 for not)': [seasonality]\n",
        "        })\n",
        "        # Standardize the input data using the same scaler used for training\n",
        "        user_input_scaled = scaler.transform(user_input)\n",
        "# Train the model on the entire dataset before making predictions\n",
        "        model.fit(X_scaled, y)\n",
        "# Predict sales\n",
        "        predicted_sales = model.predict(user_input_scaled)[0]\n",
        "# Print the predicted sales\n",
        "        print(f\"Predicted Sales (INR): {predicted_sales:.2f}\")\n",
        "    except ValueError as e:\n",
        "        print(f\"Invalid input: {e}. Please enter the correct values.\")\n",
        "# Call the function to prompt\n",
        "predict_sales(model, scaler)"
      ],
      "metadata": {
        "colab": {
          "base_uri": "https://localhost:8080/"
        },
        "id": "-NKhuVD8SV9T",
        "outputId": "193b64ef-f353-4c1a-e5bd-2088e2418511"
      },
      "id": "-NKhuVD8SV9T",
      "execution_count": 4,
      "outputs": [
        {
          "output_type": "stream",
          "name": "stdout",
          "text": [
            "Mean Cross-Validation R² (10-Fold): 0.9925374520121467\n",
            "Mean Cross-Validation MSE (10-Fold): 86290.65526550889\n",
            "Enter the product price in INR: 1000\n",
            "Enter the product quality (1 to 10): 9\n",
            "Enter the discount percentage (0 to 50): 25\n",
            "Enter the store visibility (1 to 10): 9\n",
            "Is the product seasonal? (1 for Yes, 0 for No):1\n",
            "Predicted Sales (INR): 17449.30\n"
          ]
        }
      ]
    },
    {
      "cell_type": "markdown",
      "source": [
        "# **KNN**"
      ],
      "metadata": {
        "id": "4lO6HmfkOHa5"
      },
      "id": "4lO6HmfkOHa5"
    },
    {
      "cell_type": "code",
      "source": [
        "from sklearn.datasets import load_iris\n",
        "from sklearn.neighbors import KNeighborsClassifier\n",
        "from sklearn.model_selection import cross_val_predict, cross_val_score\n",
        "from sklearn.metrics import accuracy_score, confusion_matrix\n",
        " # Load the Iris dataset\n",
        "iris = load_iris()\n",
        "X = iris.data # Features\n",
        "y = iris.target # Labels\n",
        "# Create the k-NN model (with k=5)\n",
        "knn = KNeighborsClassifier(n_neighbors=5)\n",
        "# Perform cross-validation and make predictions on all folds\n",
        "y_pred = cross_val_predict(knn, X, y, cv=10) # 10-fold cross-validation\n",
        "# Evaluate model using accuracy score and confusion matrix\n",
        "accuracy = accuracy_score(y, y_pred)\n",
        "conf_matrix = confusion_matrix(y, y_pred)\n",
        "# Print accuracy and confusion matrix\n",
        "print(f\"Cross-Validation Accuracy: {accuracy * 100:.2f}%\")\n",
        "print(\"\\nConfusion Matrix:\")\n",
        "print(conf_matrix)\n",
        "correct = 0\n",
        "wrong = 0\n",
        "# Compare actual vs predicted for some data points\n",
        "for i in range(len(y)):\n",
        "    if y[i] == y_pred[i]:\n",
        "        correct += 1\n",
        "    else:\n",
        "        wrong += 1\n",
        "# Summary of correct and wrong predictions\n",
        "\n",
        "print(f\"\\nTotal correct predictions: {correct}\")\n",
        "print(f\"Total wrong predictions: {wrong}\")"
      ],
      "metadata": {
        "colab": {
          "base_uri": "https://localhost:8080/"
        },
        "id": "NJL0toAJSb-j",
        "outputId": "ada6fe5c-3d9b-4957-ac16-d50ab65bfe50"
      },
      "id": "NJL0toAJSb-j",
      "execution_count": 6,
      "outputs": [
        {
          "output_type": "stream",
          "name": "stdout",
          "text": [
            "Cross-Validation Accuracy: 96.67%\n",
            "\n",
            "Confusion Matrix:\n",
            "[[50  0  0]\n",
            " [ 0 46  4]\n",
            " [ 0  1 49]]\n",
            "\n",
            "Total correct predictions: 145\n",
            "Total wrong predictions: 5\n"
          ]
        }
      ]
    },
    {
      "cell_type": "markdown",
      "source": [
        "# **KMeans**"
      ],
      "metadata": {
        "id": "B5bjJGyPOn5R"
      },
      "id": "B5bjJGyPOn5R"
    },
    {
      "cell_type": "code",
      "source": [
        "import numpy as np\n",
        "from sklearn.cluster import KMeans\n",
        "points=np.array([[2,10],[2,5],[8,4],[5,8],[7,5],[6,4],[1,2],[4,9]])\n",
        "initial_centers=np.array([[2,10],[5,8],[1,2]])\n",
        "KMeans=KMeans(n_clusters=3,init=initial_centers,n_init=1,random_state=42)\n",
        "KMeans.fit(points)\n",
        "cluster_centers=KMeans.cluster_centers_\n",
        "labels=KMeans.labels_\n",
        "print(\"Cluster centers:\\n\",cluster_centers)\n",
        "print(\"Cluster labels:\\n\",labels)"
      ],
      "metadata": {
        "colab": {
          "base_uri": "https://localhost:8080/"
        },
        "id": "iQo9V8uJSeKF",
        "outputId": "37bc9f83-d1e9-4815-f30b-373ab8bf7f21"
      },
      "id": "iQo9V8uJSeKF",
      "execution_count": 7,
      "outputs": [
        {
          "output_type": "stream",
          "name": "stdout",
          "text": [
            "Cluster centers:\n",
            " [[3.66666667 9.        ]\n",
            " [7.         4.33333333]\n",
            " [1.5        3.5       ]]\n",
            "Cluster labels:\n",
            " [0 2 1 0 1 1 2 0]\n"
          ]
        }
      ]
    },
    {
      "cell_type": "markdown",
      "source": [
        "# **SVM**"
      ],
      "metadata": {
        "id": "UqThERS0ORPH"
      },
      "id": "UqThERS0ORPH"
    },
    {
      "cell_type": "code",
      "source": [
        "from sklearn import datasets\n",
        "from sklearn.metrics import confusion_matrix\n",
        "from sklearn.metrics import accuracy_score\n",
        "from sklearn.model_selection import cross_val_predict\n",
        "from sklearn.svm import SVC as svc\n",
        "iris=datasets.load_iris()\n",
        "x=iris.data\n",
        "y=iris.target\n",
        "svm_model=svc(kernel='linear', random_state=52)\n",
        "y_pred=cross_val_predict(svm_model,x,y,cv=5)\n",
        "y_pred\n",
        "accuracy=accuracy_score(y,y_pred)\n",
        "accuracy\n",
        "print(\"Accuracy:\",accuracy)\n",
        "CM=confusion_matrix(y,y_pred)\n",
        "CM\n",
        "print(\"Confusion Matrix:\\n\",CM)\n",
        "cmdf=pd.DataFrame(CM,index=iris.target_names,columns=iris.target_names)\n",
        "print(\"\\nConfusion Matrix DataFrame:\\n\",cmdf)"
      ],
      "metadata": {
        "colab": {
          "base_uri": "https://localhost:8080/"
        },
        "id": "s0C1x_EBU--C",
        "outputId": "624f01ef-92b9-4609-916e-c3d7c61c0ead"
      },
      "id": "s0C1x_EBU--C",
      "execution_count": 8,
      "outputs": [
        {
          "output_type": "stream",
          "name": "stdout",
          "text": [
            "Accuracy: 0.98\n",
            "Confusion Matrix:\n",
            " [[50  0  0]\n",
            " [ 0 48  2]\n",
            " [ 0  1 49]]\n",
            "\n",
            "Confusion Matrix DataFrame:\n",
            "             setosa  versicolor  virginica\n",
            "setosa          50           0          0\n",
            "versicolor       0          48          2\n",
            "virginica        0           1         49\n"
          ]
        }
      ]
    },
    {
      "cell_type": "markdown",
      "source": [
        "# **ID3**"
      ],
      "metadata": {
        "id": "71coV3x9eLhw"
      },
      "id": "71coV3x9eLhw"
    },
    {
      "cell_type": "code",
      "source": [
        "import pandas as pd\n",
        "from sklearn.model_selection import train_test_split\n",
        "from sklearn.tree import DecisionTreeClassifier\n",
        "from sklearn import preprocessing\n",
        "import matplotlib.pyplot as plt\n",
        "from sklearn.tree import plot_tree"
      ],
      "metadata": {
        "id": "2P-d9Nbkeb11"
      },
      "id": "2P-d9Nbkeb11",
      "execution_count": 9,
      "outputs": []
    },
    {
      "cell_type": "code",
      "source": [
        "df=pd.read_csv('/content/datasets/weather_data.csv')\n",
        "df"
      ],
      "metadata": {
        "colab": {
          "base_uri": "https://localhost:8080/",
          "height": 423
        },
        "id": "9MSq3WK3fibb",
        "outputId": "987cb387-8c0a-4998-df4a-3c59d6779617"
      },
      "id": "9MSq3WK3fibb",
      "execution_count": 10,
      "outputs": [
        {
          "output_type": "execute_result",
          "data": {
            "text/plain": [
              "     Outlook Temperature Humidity  Windy Play\n",
              "0      Sunny        Cool     High  False   No\n",
              "1       Rain        Cool     High   True  Yes\n",
              "2       Rain        Cool     High  False   No\n",
              "3   Overcast        Mild     High  False   No\n",
              "4      Sunny        Cool   Normal   True   No\n",
              "..       ...         ...      ...    ...  ...\n",
              "95      Rain         Hot   Normal   True   No\n",
              "96  Overcast        Mild     High  False  Yes\n",
              "97  Overcast        Mild   Normal  False   No\n",
              "98      Rain        Cool   Normal   True   No\n",
              "99     Sunny        Cool   Normal   True  Yes\n",
              "\n",
              "[100 rows x 5 columns]"
            ],
            "text/html": [
              "\n",
              "  <div id=\"df-846f0b61-86be-4698-8bfd-e52858ec63ac\" class=\"colab-df-container\">\n",
              "    <div>\n",
              "<style scoped>\n",
              "    .dataframe tbody tr th:only-of-type {\n",
              "        vertical-align: middle;\n",
              "    }\n",
              "\n",
              "    .dataframe tbody tr th {\n",
              "        vertical-align: top;\n",
              "    }\n",
              "\n",
              "    .dataframe thead th {\n",
              "        text-align: right;\n",
              "    }\n",
              "</style>\n",
              "<table border=\"1\" class=\"dataframe\">\n",
              "  <thead>\n",
              "    <tr style=\"text-align: right;\">\n",
              "      <th></th>\n",
              "      <th>Outlook</th>\n",
              "      <th>Temperature</th>\n",
              "      <th>Humidity</th>\n",
              "      <th>Windy</th>\n",
              "      <th>Play</th>\n",
              "    </tr>\n",
              "  </thead>\n",
              "  <tbody>\n",
              "    <tr>\n",
              "      <th>0</th>\n",
              "      <td>Sunny</td>\n",
              "      <td>Cool</td>\n",
              "      <td>High</td>\n",
              "      <td>False</td>\n",
              "      <td>No</td>\n",
              "    </tr>\n",
              "    <tr>\n",
              "      <th>1</th>\n",
              "      <td>Rain</td>\n",
              "      <td>Cool</td>\n",
              "      <td>High</td>\n",
              "      <td>True</td>\n",
              "      <td>Yes</td>\n",
              "    </tr>\n",
              "    <tr>\n",
              "      <th>2</th>\n",
              "      <td>Rain</td>\n",
              "      <td>Cool</td>\n",
              "      <td>High</td>\n",
              "      <td>False</td>\n",
              "      <td>No</td>\n",
              "    </tr>\n",
              "    <tr>\n",
              "      <th>3</th>\n",
              "      <td>Overcast</td>\n",
              "      <td>Mild</td>\n",
              "      <td>High</td>\n",
              "      <td>False</td>\n",
              "      <td>No</td>\n",
              "    </tr>\n",
              "    <tr>\n",
              "      <th>4</th>\n",
              "      <td>Sunny</td>\n",
              "      <td>Cool</td>\n",
              "      <td>Normal</td>\n",
              "      <td>True</td>\n",
              "      <td>No</td>\n",
              "    </tr>\n",
              "    <tr>\n",
              "      <th>...</th>\n",
              "      <td>...</td>\n",
              "      <td>...</td>\n",
              "      <td>...</td>\n",
              "      <td>...</td>\n",
              "      <td>...</td>\n",
              "    </tr>\n",
              "    <tr>\n",
              "      <th>95</th>\n",
              "      <td>Rain</td>\n",
              "      <td>Hot</td>\n",
              "      <td>Normal</td>\n",
              "      <td>True</td>\n",
              "      <td>No</td>\n",
              "    </tr>\n",
              "    <tr>\n",
              "      <th>96</th>\n",
              "      <td>Overcast</td>\n",
              "      <td>Mild</td>\n",
              "      <td>High</td>\n",
              "      <td>False</td>\n",
              "      <td>Yes</td>\n",
              "    </tr>\n",
              "    <tr>\n",
              "      <th>97</th>\n",
              "      <td>Overcast</td>\n",
              "      <td>Mild</td>\n",
              "      <td>Normal</td>\n",
              "      <td>False</td>\n",
              "      <td>No</td>\n",
              "    </tr>\n",
              "    <tr>\n",
              "      <th>98</th>\n",
              "      <td>Rain</td>\n",
              "      <td>Cool</td>\n",
              "      <td>Normal</td>\n",
              "      <td>True</td>\n",
              "      <td>No</td>\n",
              "    </tr>\n",
              "    <tr>\n",
              "      <th>99</th>\n",
              "      <td>Sunny</td>\n",
              "      <td>Cool</td>\n",
              "      <td>Normal</td>\n",
              "      <td>True</td>\n",
              "      <td>Yes</td>\n",
              "    </tr>\n",
              "  </tbody>\n",
              "</table>\n",
              "<p>100 rows × 5 columns</p>\n",
              "</div>\n",
              "    <div class=\"colab-df-buttons\">\n",
              "\n",
              "  <div class=\"colab-df-container\">\n",
              "    <button class=\"colab-df-convert\" onclick=\"convertToInteractive('df-846f0b61-86be-4698-8bfd-e52858ec63ac')\"\n",
              "            title=\"Convert this dataframe to an interactive table.\"\n",
              "            style=\"display:none;\">\n",
              "\n",
              "  <svg xmlns=\"http://www.w3.org/2000/svg\" height=\"24px\" viewBox=\"0 -960 960 960\">\n",
              "    <path d=\"M120-120v-720h720v720H120Zm60-500h600v-160H180v160Zm220 220h160v-160H400v160Zm0 220h160v-160H400v160ZM180-400h160v-160H180v160Zm440 0h160v-160H620v160ZM180-180h160v-160H180v160Zm440 0h160v-160H620v160Z\"/>\n",
              "  </svg>\n",
              "    </button>\n",
              "\n",
              "  <style>\n",
              "    .colab-df-container {\n",
              "      display:flex;\n",
              "      gap: 12px;\n",
              "    }\n",
              "\n",
              "    .colab-df-convert {\n",
              "      background-color: #E8F0FE;\n",
              "      border: none;\n",
              "      border-radius: 50%;\n",
              "      cursor: pointer;\n",
              "      display: none;\n",
              "      fill: #1967D2;\n",
              "      height: 32px;\n",
              "      padding: 0 0 0 0;\n",
              "      width: 32px;\n",
              "    }\n",
              "\n",
              "    .colab-df-convert:hover {\n",
              "      background-color: #E2EBFA;\n",
              "      box-shadow: 0px 1px 2px rgba(60, 64, 67, 0.3), 0px 1px 3px 1px rgba(60, 64, 67, 0.15);\n",
              "      fill: #174EA6;\n",
              "    }\n",
              "\n",
              "    .colab-df-buttons div {\n",
              "      margin-bottom: 4px;\n",
              "    }\n",
              "\n",
              "    [theme=dark] .colab-df-convert {\n",
              "      background-color: #3B4455;\n",
              "      fill: #D2E3FC;\n",
              "    }\n",
              "\n",
              "    [theme=dark] .colab-df-convert:hover {\n",
              "      background-color: #434B5C;\n",
              "      box-shadow: 0px 1px 3px 1px rgba(0, 0, 0, 0.15);\n",
              "      filter: drop-shadow(0px 1px 2px rgba(0, 0, 0, 0.3));\n",
              "      fill: #FFFFFF;\n",
              "    }\n",
              "  </style>\n",
              "\n",
              "    <script>\n",
              "      const buttonEl =\n",
              "        document.querySelector('#df-846f0b61-86be-4698-8bfd-e52858ec63ac button.colab-df-convert');\n",
              "      buttonEl.style.display =\n",
              "        google.colab.kernel.accessAllowed ? 'block' : 'none';\n",
              "\n",
              "      async function convertToInteractive(key) {\n",
              "        const element = document.querySelector('#df-846f0b61-86be-4698-8bfd-e52858ec63ac');\n",
              "        const dataTable =\n",
              "          await google.colab.kernel.invokeFunction('convertToInteractive',\n",
              "                                                    [key], {});\n",
              "        if (!dataTable) return;\n",
              "\n",
              "        const docLinkHtml = 'Like what you see? Visit the ' +\n",
              "          '<a target=\"_blank\" href=https://colab.research.google.com/notebooks/data_table.ipynb>data table notebook</a>'\n",
              "          + ' to learn more about interactive tables.';\n",
              "        element.innerHTML = '';\n",
              "        dataTable['output_type'] = 'display_data';\n",
              "        await google.colab.output.renderOutput(dataTable, element);\n",
              "        const docLink = document.createElement('div');\n",
              "        docLink.innerHTML = docLinkHtml;\n",
              "        element.appendChild(docLink);\n",
              "      }\n",
              "    </script>\n",
              "  </div>\n",
              "\n",
              "\n",
              "<div id=\"df-4d0def72-fc14-4a58-8e5e-8f1be35ab3e9\">\n",
              "  <button class=\"colab-df-quickchart\" onclick=\"quickchart('df-4d0def72-fc14-4a58-8e5e-8f1be35ab3e9')\"\n",
              "            title=\"Suggest charts\"\n",
              "            style=\"display:none;\">\n",
              "\n",
              "<svg xmlns=\"http://www.w3.org/2000/svg\" height=\"24px\"viewBox=\"0 0 24 24\"\n",
              "     width=\"24px\">\n",
              "    <g>\n",
              "        <path d=\"M19 3H5c-1.1 0-2 .9-2 2v14c0 1.1.9 2 2 2h14c1.1 0 2-.9 2-2V5c0-1.1-.9-2-2-2zM9 17H7v-7h2v7zm4 0h-2V7h2v10zm4 0h-2v-4h2v4z\"/>\n",
              "    </g>\n",
              "</svg>\n",
              "  </button>\n",
              "\n",
              "<style>\n",
              "  .colab-df-quickchart {\n",
              "      --bg-color: #E8F0FE;\n",
              "      --fill-color: #1967D2;\n",
              "      --hover-bg-color: #E2EBFA;\n",
              "      --hover-fill-color: #174EA6;\n",
              "      --disabled-fill-color: #AAA;\n",
              "      --disabled-bg-color: #DDD;\n",
              "  }\n",
              "\n",
              "  [theme=dark] .colab-df-quickchart {\n",
              "      --bg-color: #3B4455;\n",
              "      --fill-color: #D2E3FC;\n",
              "      --hover-bg-color: #434B5C;\n",
              "      --hover-fill-color: #FFFFFF;\n",
              "      --disabled-bg-color: #3B4455;\n",
              "      --disabled-fill-color: #666;\n",
              "  }\n",
              "\n",
              "  .colab-df-quickchart {\n",
              "    background-color: var(--bg-color);\n",
              "    border: none;\n",
              "    border-radius: 50%;\n",
              "    cursor: pointer;\n",
              "    display: none;\n",
              "    fill: var(--fill-color);\n",
              "    height: 32px;\n",
              "    padding: 0;\n",
              "    width: 32px;\n",
              "  }\n",
              "\n",
              "  .colab-df-quickchart:hover {\n",
              "    background-color: var(--hover-bg-color);\n",
              "    box-shadow: 0 1px 2px rgba(60, 64, 67, 0.3), 0 1px 3px 1px rgba(60, 64, 67, 0.15);\n",
              "    fill: var(--button-hover-fill-color);\n",
              "  }\n",
              "\n",
              "  .colab-df-quickchart-complete:disabled,\n",
              "  .colab-df-quickchart-complete:disabled:hover {\n",
              "    background-color: var(--disabled-bg-color);\n",
              "    fill: var(--disabled-fill-color);\n",
              "    box-shadow: none;\n",
              "  }\n",
              "\n",
              "  .colab-df-spinner {\n",
              "    border: 2px solid var(--fill-color);\n",
              "    border-color: transparent;\n",
              "    border-bottom-color: var(--fill-color);\n",
              "    animation:\n",
              "      spin 1s steps(1) infinite;\n",
              "  }\n",
              "\n",
              "  @keyframes spin {\n",
              "    0% {\n",
              "      border-color: transparent;\n",
              "      border-bottom-color: var(--fill-color);\n",
              "      border-left-color: var(--fill-color);\n",
              "    }\n",
              "    20% {\n",
              "      border-color: transparent;\n",
              "      border-left-color: var(--fill-color);\n",
              "      border-top-color: var(--fill-color);\n",
              "    }\n",
              "    30% {\n",
              "      border-color: transparent;\n",
              "      border-left-color: var(--fill-color);\n",
              "      border-top-color: var(--fill-color);\n",
              "      border-right-color: var(--fill-color);\n",
              "    }\n",
              "    40% {\n",
              "      border-color: transparent;\n",
              "      border-right-color: var(--fill-color);\n",
              "      border-top-color: var(--fill-color);\n",
              "    }\n",
              "    60% {\n",
              "      border-color: transparent;\n",
              "      border-right-color: var(--fill-color);\n",
              "    }\n",
              "    80% {\n",
              "      border-color: transparent;\n",
              "      border-right-color: var(--fill-color);\n",
              "      border-bottom-color: var(--fill-color);\n",
              "    }\n",
              "    90% {\n",
              "      border-color: transparent;\n",
              "      border-bottom-color: var(--fill-color);\n",
              "    }\n",
              "  }\n",
              "</style>\n",
              "\n",
              "  <script>\n",
              "    async function quickchart(key) {\n",
              "      const quickchartButtonEl =\n",
              "        document.querySelector('#' + key + ' button');\n",
              "      quickchartButtonEl.disabled = true;  // To prevent multiple clicks.\n",
              "      quickchartButtonEl.classList.add('colab-df-spinner');\n",
              "      try {\n",
              "        const charts = await google.colab.kernel.invokeFunction(\n",
              "            'suggestCharts', [key], {});\n",
              "      } catch (error) {\n",
              "        console.error('Error during call to suggestCharts:', error);\n",
              "      }\n",
              "      quickchartButtonEl.classList.remove('colab-df-spinner');\n",
              "      quickchartButtonEl.classList.add('colab-df-quickchart-complete');\n",
              "    }\n",
              "    (() => {\n",
              "      let quickchartButtonEl =\n",
              "        document.querySelector('#df-4d0def72-fc14-4a58-8e5e-8f1be35ab3e9 button');\n",
              "      quickchartButtonEl.style.display =\n",
              "        google.colab.kernel.accessAllowed ? 'block' : 'none';\n",
              "    })();\n",
              "  </script>\n",
              "</div>\n",
              "\n",
              "  <div id=\"id_a177eb8b-5a5b-4a36-b945-4c1cf94be3e1\">\n",
              "    <style>\n",
              "      .colab-df-generate {\n",
              "        background-color: #E8F0FE;\n",
              "        border: none;\n",
              "        border-radius: 50%;\n",
              "        cursor: pointer;\n",
              "        display: none;\n",
              "        fill: #1967D2;\n",
              "        height: 32px;\n",
              "        padding: 0 0 0 0;\n",
              "        width: 32px;\n",
              "      }\n",
              "\n",
              "      .colab-df-generate:hover {\n",
              "        background-color: #E2EBFA;\n",
              "        box-shadow: 0px 1px 2px rgba(60, 64, 67, 0.3), 0px 1px 3px 1px rgba(60, 64, 67, 0.15);\n",
              "        fill: #174EA6;\n",
              "      }\n",
              "\n",
              "      [theme=dark] .colab-df-generate {\n",
              "        background-color: #3B4455;\n",
              "        fill: #D2E3FC;\n",
              "      }\n",
              "\n",
              "      [theme=dark] .colab-df-generate:hover {\n",
              "        background-color: #434B5C;\n",
              "        box-shadow: 0px 1px 3px 1px rgba(0, 0, 0, 0.15);\n",
              "        filter: drop-shadow(0px 1px 2px rgba(0, 0, 0, 0.3));\n",
              "        fill: #FFFFFF;\n",
              "      }\n",
              "    </style>\n",
              "    <button class=\"colab-df-generate\" onclick=\"generateWithVariable('df')\"\n",
              "            title=\"Generate code using this dataframe.\"\n",
              "            style=\"display:none;\">\n",
              "\n",
              "  <svg xmlns=\"http://www.w3.org/2000/svg\" height=\"24px\"viewBox=\"0 0 24 24\"\n",
              "       width=\"24px\">\n",
              "    <path d=\"M7,19H8.4L18.45,9,17,7.55,7,17.6ZM5,21V16.75L18.45,3.32a2,2,0,0,1,2.83,0l1.4,1.43a1.91,1.91,0,0,1,.58,1.4,1.91,1.91,0,0,1-.58,1.4L9.25,21ZM18.45,9,17,7.55Zm-12,3A5.31,5.31,0,0,0,4.9,8.1,5.31,5.31,0,0,0,1,6.5,5.31,5.31,0,0,0,4.9,4.9,5.31,5.31,0,0,0,6.5,1,5.31,5.31,0,0,0,8.1,4.9,5.31,5.31,0,0,0,12,6.5,5.46,5.46,0,0,0,6.5,12Z\"/>\n",
              "  </svg>\n",
              "    </button>\n",
              "    <script>\n",
              "      (() => {\n",
              "      const buttonEl =\n",
              "        document.querySelector('#id_a177eb8b-5a5b-4a36-b945-4c1cf94be3e1 button.colab-df-generate');\n",
              "      buttonEl.style.display =\n",
              "        google.colab.kernel.accessAllowed ? 'block' : 'none';\n",
              "\n",
              "      buttonEl.onclick = () => {\n",
              "        google.colab.notebook.generateWithVariable('df');\n",
              "      }\n",
              "      })();\n",
              "    </script>\n",
              "  </div>\n",
              "\n",
              "    </div>\n",
              "  </div>\n"
            ],
            "application/vnd.google.colaboratory.intrinsic+json": {
              "type": "dataframe",
              "variable_name": "df",
              "summary": "{\n  \"name\": \"df\",\n  \"rows\": 100,\n  \"fields\": [\n    {\n      \"column\": \"Outlook\",\n      \"properties\": {\n        \"dtype\": \"category\",\n        \"num_unique_values\": 3,\n        \"samples\": [\n          \"Sunny\",\n          \"Rain\",\n          \"Overcast\"\n        ],\n        \"semantic_type\": \"\",\n        \"description\": \"\"\n      }\n    },\n    {\n      \"column\": \"Temperature\",\n      \"properties\": {\n        \"dtype\": \"category\",\n        \"num_unique_values\": 3,\n        \"samples\": [\n          \"Cool\",\n          \"Mild\",\n          \"Hot\"\n        ],\n        \"semantic_type\": \"\",\n        \"description\": \"\"\n      }\n    },\n    {\n      \"column\": \"Humidity\",\n      \"properties\": {\n        \"dtype\": \"category\",\n        \"num_unique_values\": 2,\n        \"samples\": [\n          \"Normal\",\n          \"High\"\n        ],\n        \"semantic_type\": \"\",\n        \"description\": \"\"\n      }\n    },\n    {\n      \"column\": \"Windy\",\n      \"properties\": {\n        \"dtype\": \"boolean\",\n        \"num_unique_values\": 2,\n        \"samples\": [\n          true,\n          false\n        ],\n        \"semantic_type\": \"\",\n        \"description\": \"\"\n      }\n    },\n    {\n      \"column\": \"Play\",\n      \"properties\": {\n        \"dtype\": \"category\",\n        \"num_unique_values\": 2,\n        \"samples\": [\n          \"Yes\",\n          \"No\"\n        ],\n        \"semantic_type\": \"\",\n        \"description\": \"\"\n      }\n    }\n  ]\n}"
            }
          },
          "metadata": {},
          "execution_count": 10
        }
      ]
    },
    {
      "cell_type": "code",
      "source": [
        "X=df[['outlook','temperature','humidity','windy']]  # Use the new encoded column names\n",
        "y=df['play']"
      ],
      "metadata": {
        "id": "9fc6Evs8hCRF"
      },
      "id": "9fc6Evs8hCRF",
      "execution_count": 14,
      "outputs": []
    },
    {
      "cell_type": "code",
      "source": [
        "label_encoder = preprocessing.LabelEncoder()\n",
        "df['outlook']=label_encoder.fit_transform(df['Outlook'])\n",
        "df['temperature']=label_encoder.fit_transform(df['Temperature'])\n",
        "df['humidity']=label_encoder.fit_transform(df['Humidity'])\n",
        "df['windy']=df['Windy'].astype(int)\n",
        "df['play']=label_encoder.fit_transform(df['Play'])"
      ],
      "metadata": {
        "id": "SmgQxVpFfBhH"
      },
      "id": "SmgQxVpFfBhH",
      "execution_count": 15,
      "outputs": []
    },
    {
      "cell_type": "code",
      "source": [
        "X_train, X_test, y_train, y_test = train_test_split(X, y, test_size=0.2, random_state=42)\n",
        "clf=DecisionTreeClassifier(criterion='entropy',max_depth=2)\n",
        "clf.fit(X_train,y_train)\n",
        "plt.figure(figsize=(10,10))"
      ],
      "metadata": {
        "colab": {
          "base_uri": "https://localhost:8080/",
          "height": 52
        },
        "id": "YROo_C3XfGx1",
        "outputId": "6aef015a-d42b-4707-d6e0-ec07cdb64fdb"
      },
      "id": "YROo_C3XfGx1",
      "execution_count": 16,
      "outputs": [
        {
          "output_type": "execute_result",
          "data": {
            "text/plain": [
              "<Figure size 1000x1000 with 0 Axes>"
            ]
          },
          "metadata": {},
          "execution_count": 16
        },
        {
          "output_type": "display_data",
          "data": {
            "text/plain": [
              "<Figure size 1000x1000 with 0 Axes>"
            ]
          },
          "metadata": {}
        }
      ]
    },
    {
      "cell_type": "code",
      "source": [
        "plt.figure(figsize=(10, 10))\n",
        "plot_tree(clf, feature_names=['Outlook', 'Temperature', 'Humidity', 'Windy'],  # Use plot_tree instead of plt_tree\n",
        "          class_names=['Don\\'t Play', 'Play'], filled=True, fontsize=14)\n",
        "plt.show()"
      ],
      "metadata": {
        "colab": {
          "base_uri": "https://localhost:8080/",
          "height": 807
        },
        "id": "a3MXvrQ7fPjn",
        "outputId": "5e961a11-2660-47be-e744-2ac06b84c2e1"
      },
      "id": "a3MXvrQ7fPjn",
      "execution_count": 17,
      "outputs": [
        {
          "output_type": "display_data",
          "data": {
            "text/plain": [
              "<Figure size 1000x1000 with 1 Axes>"
            ],
            "image/png": "[encoded data removed]"
          },
          "metadata": {}
        }
      ]
    },
    {
      "cell_type": "code",
      "source": [
        "y_pred = clf.predict(X_test)\n",
        "accauracy=clf.score(X_test,y_pred)\n",
        "print(f'\\n Model Accauracy:{accauracy *100:.2f}%')"
      ],
      "metadata": {
        "colab": {
          "base_uri": "https://localhost:8080/"
        },
        "id": "3DNtRbq-fMGf",
        "outputId": "1f3c3d96-14b8-41f3-f328-58f85d59f3cc"
      },
      "id": "3DNtRbq-fMGf",
      "execution_count": 18,
      "outputs": [
        {
          "output_type": "stream",
          "name": "stdout",
          "text": [
            "\n",
            " Model Accauracy:100.00%\n"
          ]
        }
      ]
    },
    {
      "cell_type": "code",
      "source": [
        "print(\"\\n Please enter the details of the new sample for classification :\")\n",
        "outlook=int(input(\"outlook(sunny=2,overcast=0,rain=1)  =  \"))\n",
        "temperature=int(input(\"temperature(hot=1,mild=2,cool=0)  =  \"))\n",
        "humidity=int(input(\"humidity(normal=0,high=1)  =  \"))\n",
        "windy=int(input(\"windy(false=0,true=1)  =  \"))\n",
        "new=[[outlook,temperature,humidity,windy]]\n",
        "prediction=clf.predict(new)\n",
        "print(\"\\nPrediction for new data:\",'play'if prediction[0]==1 else 'don\\'t play')"
      ],
      "metadata": {
        "colab": {
          "base_uri": "https://localhost:8080/"
        },
        "id": "etVY7W9CfVeq",
        "outputId": "e1dc1413-23cf-4ec0-dae6-126512808a78"
      },
      "id": "etVY7W9CfVeq",
      "execution_count": 20,
      "outputs": [
        {
          "output_type": "stream",
          "name": "stdout",
          "text": [
            "\n",
            " Please enter the details of the new sample for classification :\n",
            "outlook(sunny=2,overcast=0,rain=1)  =  0\n",
            "temperature(hot=1,mild=2,cool=0)  =  0\n",
            "humidity(normal=0,high=1)  =  0\n",
            "windy(false=0,true=1)  =  0\n",
            "\n",
            "Prediction for new data: play\n"
          ]
        },
        {
          "output_type": "stream",
          "name": "stderr",
          "text": [
            "/usr/local/lib/python3.10/dist-packages/sklearn/base.py:493: UserWarning: X does not have valid feature names, but DecisionTreeClassifier was fitted with feature names\n",
            "  warnings.warn(\n"
          ]
        }
      ]
    },
    {
      "cell_type": "markdown",
      "source": [
        "# **Naive Bayesian**"
      ],
      "metadata": {
        "id": "kZL3z1aWnmSk"
      },
      "id": "kZL3z1aWnmSk"
    },
    {
      "cell_type": "code",
      "source": [
        "import os\n",
        "import pandas as pd\n",
        "from sklearn.feature_extraction.text import TfidfVectorizer\n",
        "\n",
        "# Step 1: Load text files from the folder and assign category labels\n",
        "def load_documents(folder_path=\"/content/datasets/data\"): # Modified folder_path\n",
        "    documents = []\n",
        "    labels = []\n",
        "    # Iterate through the folder, assuming folder structure is like\n",
        "    # →'category1', 'category2', etc.\n",
        "    for category in os.listdir(folder_path):\n",
        "        category_path = os.path.join(folder_path, category)\n",
        "        if os.path.isdir(category_path) and category != '.ipynb_checkpoints':\n",
        "            # Skip .ipynb_checkpoints\n",
        "            for file_name in os.listdir(category_path):\n",
        "                file_path = os.path.join(category_path, file_name)\n",
        "                # Only process text files\n",
        "                if file_name.endswith('.txt'):\n",
        "                    with open(file_path, 'r', encoding='utf-8') as file:\n",
        "                        # Read the document and strip out unnecessary\n",
        "                        # →whitespaces and newlines\n",
        "                        content = file.read().strip()\n",
        "                        documents.append(content)  # Load cleaned document\n",
        "                        # →content\n",
        "                        labels.append(category)  # Assign category as the label\n",
        "    return documents, labels\n",
        "\n",
        "# Step 2: Define folder path (where your documents are stored)\n",
        "# folder_path = os.path.join(os.getcwd())  # Use current working directory -- Removed this line\n",
        "folder_path = \"/content/datasets/data\" # Updated folder_path\n",
        "\n",
        "# Load documents and their labels\n",
        "documents, labels = load_documents(folder_path)\n",
        "\n",
        "# Step 3: Create a DataFrame with two columns: Content and Category\n",
        "df = pd.DataFrame({\n",
        "    'Content': documents,\n",
        "    'Category': labels\n",
        "})\n",
        "print(df)\n",
        "\n",
        "# Step 4: Apply TF-IDF Vectorization to the document contents\n",
        "tfidf_vectorizer = TfidfVectorizer(max_features=500)  # Adjust max_features as needed\n",
        "X = tfidf_vectorizer.fit_transform(df['Content'])  # Transform text data into TF-IDF features\n",
        "\n",
        "# Convert the TF-IDF matrix into a DataFrame for easy handling\n",
        "tfidf_df = pd.DataFrame(X.toarray(), columns=tfidf_vectorizer.get_feature_names_out())\n",
        "\n",
        "# Step 5: Add the labels to the TF-IDF DataFrame\n",
        "tfidf_df['Category'] = labels"
      ],
      "metadata": {
        "colab": {
          "base_uri": "https://localhost:8080/"
        },
        "id": "-t0bmGd7bAI3",
        "outputId": "2281a1d4-36f0-4ae6-f134-ec960a31b958"
      },
      "id": "-t0bmGd7bAI3",
      "execution_count": 21,
      "outputs": [
        {
          "output_type": "stream",
          "name": "stdout",
          "text": [
            "                                              Content    Category\n",
            "0   Drinking water is fundamental to maintaining h...      Health\n",
            "1   Managing stress is essential for maintaining b...      Health\n",
            "2   A balanced diet is essential for maintaining o...      Health\n",
            "3   Regular exercise is a cornerstone of a healthy...      Health\n",
            "4   Getting enough sleep is crucial for overall he...      Health\n",
            "5   Python is a versatile and powerful programming...  Technology\n",
            "6   The Internet of Things (IoT) is a rapidly adva...  Technology\n",
            "7   Data science is a multidisciplinary field that...  Technology\n",
            "8   Blockchain is a revolutionary technology that ...  Technology\n",
            "9   Machine learning is a rapidly evolving field i...  Technology\n",
            "10  Cricket is a globally popular sport known for ...      Sports\n",
            "11  Basketball is a fast-paced and highly popular ...      Sports\n",
            "12  Playing sports is a crucial component of a hea...      Sports\n",
            "13  Tennis is a widely celebrated sport known for ...      Sports\n",
            "14  Football, often referred to as \"the beautiful ...      Sports\n"
          ]
        }
      ]
    },
    {
      "cell_type": "code",
      "source": [
        "# Optional: Save the TF-IDF DataFrame to a CSV file\n",
        "csv_file_path = 'documents_with_tfidf_features.csv'\n",
        "tfidf_df.to_csv(csv_file_path, index=False)\n",
        "print(f\"CSV file successfully created with TF-IDF features: {csv_file_path}\")\n",
        "print(tfidf_df)\n"
      ],
      "metadata": {
        "colab": {
          "base_uri": "https://localhost:8080/"
        },
        "id": "EDm4hgx_PRVQ",
        "outputId": "875bc094-1e56-4046-f51f-0fb3aa59295b"
      },
      "id": "EDm4hgx_PRVQ",
      "execution_count": 22,
      "outputs": [
        {
          "output_type": "stream",
          "name": "stdout",
          "text": [
            "CSV file successfully created with TF-IDF features: documents_with_tfidf_features.csv\n",
            "     ability  academic    access  accuracy    across  actionable    active  \\\n",
            "0   0.000000  0.000000  0.000000  0.000000  0.000000    0.000000  0.000000   \n",
            "1   0.000000  0.000000  0.000000  0.000000  0.000000    0.000000  0.000000   \n",
            "2   0.000000  0.000000  0.000000  0.000000  0.000000    0.000000  0.042925   \n",
            "3   0.000000  0.000000  0.000000  0.000000  0.000000    0.000000  0.000000   \n",
            "4   0.000000  0.032110  0.000000  0.000000  0.000000    0.000000  0.032110   \n",
            "5   0.000000  0.028808  0.000000  0.000000  0.000000    0.000000  0.000000   \n",
            "6   0.000000  0.000000  0.020950  0.000000  0.039796    0.020950  0.000000   \n",
            "7   0.039321  0.000000  0.000000  0.018004  0.015389    0.048607  0.000000   \n",
            "8   0.000000  0.000000  0.050661  0.000000  0.032078    0.000000  0.000000   \n",
            "9   0.000000  0.000000  0.000000  0.081491  0.017414    0.000000  0.000000   \n",
            "10  0.000000  0.000000  0.000000  0.023905  0.020434    0.000000  0.000000   \n",
            "11  0.025986  0.000000  0.000000  0.047592  0.000000    0.000000  0.000000   \n",
            "12  0.032588  0.071899  0.000000  0.000000  0.000000    0.000000  0.035950   \n",
            "13  0.028253  0.000000  0.000000  0.025871  0.044228    0.000000  0.000000   \n",
            "14  0.000000  0.000000  0.000000  0.000000  0.021864    0.000000  0.000000   \n",
            "\n",
            "    activities  activity  addition  ...     which     while    widely  \\\n",
            "0     0.029187  0.058374  0.000000  ...  0.014735  0.000000  0.000000   \n",
            "1     0.030530  0.030530  0.000000  ...  0.030826  0.000000  0.000000   \n",
            "2     0.035631  0.000000  0.038911  ...  0.053964  0.028338  0.000000   \n",
            "3     0.133518  0.133518  0.000000  ...  0.022468  0.000000  0.000000   \n",
            "4     0.000000  0.000000  0.000000  ...  0.040369  0.021198  0.000000   \n",
            "5     0.000000  0.000000  0.000000  ...  0.012072  0.000000  0.047826   \n",
            "6     0.000000  0.000000  0.000000  ...  0.015669  0.024685  0.015519   \n",
            "7     0.000000  0.000000  0.000000  ...  0.009089  0.000000  0.036007   \n",
            "8     0.000000  0.018764  0.020492  ...  0.009473  0.014923  0.000000   \n",
            "9     0.000000  0.000000  0.000000  ...  0.020570  0.000000  0.040745   \n",
            "10    0.000000  0.000000  0.026106  ...  0.024137  0.038024  0.000000   \n",
            "11    0.000000  0.000000  0.025986  ...  0.012013  0.037850  0.000000   \n",
            "12    0.029841  0.089524  0.000000  ...  0.030130  0.023733  0.000000   \n",
            "13    0.000000  0.000000  0.000000  ...  0.039183  0.000000  0.025871   \n",
            "14    0.000000  0.000000  0.000000  ...  0.012914  0.020343  0.000000   \n",
            "\n",
            "        with   without      work   working     world  worldwide    Category  \n",
            "0   0.033404  0.000000  0.000000  0.035161  0.000000   0.000000      Health  \n",
            "1   0.069884  0.033341  0.000000  0.000000  0.000000   0.000000      Health  \n",
            "2   0.040780  0.000000  0.000000  0.000000  0.000000   0.000000      Health  \n",
            "3   0.000000  0.000000  0.000000  0.053616  0.000000   0.000000      Health  \n",
            "4   0.015253  0.000000  0.000000  0.000000  0.000000   0.000000      Health  \n",
            "5   0.027368  0.000000  0.000000  0.000000  0.000000   0.000000  Technology  \n",
            "6   0.017762  0.016948  0.000000  0.000000  0.031038   0.000000  Technology  \n",
            "7   0.041210  0.000000  0.000000  0.021689  0.018004   0.000000  Technology  \n",
            "8   0.032214  0.061475  0.020492  0.000000  0.000000   0.000000  Technology  \n",
            "9   0.046633  0.022248  0.000000  0.000000  0.000000   0.000000  Technology  \n",
            "10  0.068399  0.000000  0.000000  0.000000  0.000000   0.000000      Sports  \n",
            "11  0.054469  0.000000  0.025986  0.000000  0.047592   0.028667      Sports  \n",
            "12  0.000000  0.000000  0.032588  0.000000  0.000000   0.000000      Sports  \n",
            "13  0.074025  0.000000  0.028253  0.000000  0.025871   0.031167      Sports  \n",
            "14  0.058551  0.000000  0.000000  0.000000  0.025579   0.061631      Sports  \n",
            "\n",
            "[15 rows x 501 columns]\n"
          ]
        }
      ]
    },
    {
      "cell_type": "code",
      "source": [
        "import pandas as pd\n",
        "from sklearn.model_selection import train_test_split\n",
        "from sklearn.naive_bayes import MultinomialNB\n",
        "from sklearn.metrics import accuracy_score, precision_score, recall_score\n",
        "# Load the TF-IDF DataFrame (assuming 'documents_with_tfidf_features.csv' was␣\n",
        "# →created previously)\n",
        "df = pd.read_csv('documents_with_tfidf_features.csv')\n",
        "# Separate features (X) and labels (y)\n",
        "X = df.drop('Category', axis=1)\n",
        "y = df['Category']\n",
        "# Split the data into training and test sets\n",
        "X_train, X_test, y_train, y_test = train_test_split(X, y, test_size=0.2, random_state=42)\n",
        "# Initialize the Naive Bayes classifier\n",
        "nb_classifier = MultinomialNB()\n",
        "# Fit the model to the training data\n",
        "nb_classifier.fit(X_train, y_train)\n",
        "# Make predictions on the test set\n",
        "y_pred = nb_classifier.predict(X_test)\n",
        "# Calculate evaluation metrics\n",
        "accuracy = accuracy_score(y_test, y_pred)\n",
        "precision = precision_score(y_test, y_pred, average='weighted')\n",
        "recall = recall_score(y_test, y_pred, average='weighted')\n",
        "# Print the metrics\n",
        "print(f\"Accuracy: {accuracy:.2f}\")\n",
        "print(f\"Precision: {precision:.2f}\")\n",
        "print(f\"Recall: {recall:.2f}\")"
      ],
      "metadata": {
        "colab": {
          "base_uri": "https://localhost:8080/"
        },
        "id": "42PhFI2SQAq5",
        "outputId": "162d98c5-21f5-40bc-c86a-4f64e67b0c7e"
      },
      "id": "42PhFI2SQAq5",
      "execution_count": 23,
      "outputs": [
        {
          "output_type": "stream",
          "name": "stdout",
          "text": [
            "Accuracy: 1.00\n",
            "Precision: 1.00\n",
            "Recall: 1.00\n"
          ]
        }
      ]
    },
    {
      "cell_type": "markdown",
      "source": [
        "# **Dimensionality Reduction**"
      ],
      "metadata": {
        "id": "tVHMJgvBobIV"
      },
      "id": "tVHMJgvBobIV"
    },
    {
      "cell_type": "code",
      "source": [
        "# prompt: principle component analysis for dimensionality reduction using iris datset in a short way\n",
        "\n",
        "import pandas as pd\n",
        "from sklearn.datasets import load_iris\n",
        "from sklearn.preprocessing import StandardScaler\n",
        "from sklearn.decomposition import PCA\n",
        "import matplotlib.pyplot as plt\n",
        "\n",
        "# Load the Iris dataset\n",
        "iris = load_iris()\n",
        "X = iris.data\n",
        "y = iris.target\n",
        "\n",
        "# Standardize the features\n",
        "scaler = StandardScaler()\n",
        "X_scaled = scaler.fit_transform(X)\n",
        "\n",
        "# Apply PCA with 2 components\n",
        "pca = PCA(n_components=2)\n",
        "X_pca = pca.fit_transform(X_scaled)\n",
        "\n",
        "# Create a DataFrame for visualization\n",
        "pca_df = pd.DataFrame(data=X_pca, columns=['PC1', 'PC2'])\n",
        "pca_df['Target'] = y\n",
        "\n",
        "# Visualize the results\n",
        "plt.figure(figsize=(8, 6))\n",
        "for target in range(3):\n",
        "    subset = pca_df[pca_df['Target'] == target]\n",
        "    plt.scatter(subset['PC1'], subset['PC2'], label=iris.target_names[target])\n",
        "plt.xlabel('Principal Component 1')\n",
        "plt.ylabel('Principal Component 2')\n",
        "plt.title('PCA of Iris Dataset')\n",
        "plt.legend()\n",
        "plt.show()"
      ],
      "metadata": {
        "colab": {
          "base_uri": "https://localhost:8080/",
          "height": 0
        },
        "id": "kriwbq5FYL9F",
        "outputId": "3d06d69b-8aa8-4d3e-a3dd-a4a16a85b3f9"
      },
      "id": "kriwbq5FYL9F",
      "execution_count": 24,
      "outputs": [
        {
          "output_type": "display_data",
          "data": {
            "text/plain": [
              "<Figure size 800x600 with 1 Axes>"
            ],
            "image/png": "[encoded data removed]"
          },
          "metadata": {}
        }
      ]
    },
    {
      "cell_type": "markdown",
      "source": [
        "# **Recommender System**"
      ],
      "metadata": {
        "id": "M1Y-r-i5ojxo"
      },
      "id": "M1Y-r-i5ojxo"
    },
    {
      "cell_type": "code",
      "source": [
        "import pandas as pd\n",
        "import numpy as np # Corrected the indentation\n",
        "from sklearn.decomposition import TruncatedSVD\n",
        "# Step 1: Create a synthetic dataset (User-Item ratings)\n",
        "data = {\n",
        "    'User': ['User1', 'User2', 'User3', 'User4', 'User5'],\n",
        "    'Item1': [5, 3, 4, np.nan, 2],\n",
        "    'Item2': [3, 2, 4, 4, 5],\n",
        "    'Item3': [4, 4, 3, 2, np.nan],\n",
        "    'Item4': [2, 5, 3, 4, 1],\n",
        "    'Item5': [3, 4, np.nan, 5, 4],\n",
        "    'Item6': [5, 4, 2, 3, 4],\n",
        "}\n",
        "# Create a DataFrame\n",
        "df = pd.DataFrame(data)\n",
        "# Step 2: Handle missing values- Fill missing values with 0 (indicating no rating)\n",
        "df_filled = df.fillna(0) # Define df_filled before using it\n",
        "# Step 3: Set User column as the index\n",
        "df_filled.set_index('User', inplace=True) # Now you can use df_filled\n",
        "# Step 4: Mean center the ratings (subtract user mean)\n",
        "user_means = df_filled.mean(axis=1)  # Calculate the mean rating for each user\n",
        "df_centered = df_filled.sub(user_means, axis=0)  # Subtract user mean from each user's ratings\n",
        "# Step 5: Apply Singular Value Decomposition (SVD) on the centered data\n",
        "svd = TruncatedSVD(n_components=2)  # Set the number of latent factors (components)\n",
        "U = svd.fit_transform(df_centered)  # User feature matrix\n",
        "Sigma = np.diag(svd.singular_values_)  # Singular values (diagonal matrix)\n",
        "Vt = svd.components_  # Item feature matrix\n",
        "\n",
        "# Step 6: Reconstruct the matrix using the SVD components\n",
        "reconstructed_matrix = np.dot(np.dot(U, Sigma), Vt)\n",
        "# Step 7: Add back the mean ratings to reconstruct the original scale\n",
        "reconstructed_matrix_with_mean = reconstructed_matrix + user_means.values[:, np.newaxis]\n",
        "# Create a DataFrame for the reconstructed ratings with the added mean\n",
        "reconstructed_df = pd.DataFrame(reconstructed_matrix_with_mean, columns=df_filled.columns, index=df_filled.index)\n",
        "print(\"\\nReconstructed Ratings Matrix (after SVD, with added mean):\")\n",
        "print(reconstructed_df)"
      ],
      "metadata": {
        "colab": {
          "base_uri": "https://localhost:8080/"
        },
        "id": "YZjqUAquYViz",
        "outputId": "e09723d7-c134-47b3-9093-32a38184d8c9"
      },
      "id": "YZjqUAquYViz",
      "execution_count": 25,
      "outputs": [
        {
          "output_type": "stream",
          "name": "stdout",
          "text": [
            "\n",
            "Reconstructed Ratings Matrix (after SVD, with added mean):\n",
            "           Item1      Item2     Item3     Item4      Item5     Item6\n",
            "User                                                                \n",
            "User1  10.409302   4.824364  4.726916 -0.086580  -2.096509  4.222507\n",
            "User2   0.434367  -0.987566  6.725279  8.879981   5.377260  1.570678\n",
            "User3  11.922851   1.903255  6.169294 -0.526296  -5.848801  2.379697\n",
            "User4 -10.970898   6.223370 -4.088850  6.094396  16.384490  4.357492\n",
            "User5  -3.050503  14.720267 -9.574655 -5.007330  10.899138  8.013084\n"
          ]
        }
      ]
    },
    {
      "cell_type": "code",
      "source": [
        "from sklearn.preprocessing import MinMaxScaler\n",
        "# Apply Min-Max scaling to bring the reconstructed values to the range [1, 5]\n",
        "scaler = MinMaxScaler(feature_range=(1, 5)) # Removed extra space before this line\n",
        "reconstructed_df_scaled = pd.DataFrame(scaler.fit_transform(reconstructed_df),\n",
        "                                       columns=reconstructed_df.columns, index=reconstructed_df.index)\n",
        "print(\"\\nReconstructed Ratings Matrix (after Min-Max Scaling):\")\n",
        "print(reconstructed_df_scaled)\n",
        "# Step 6: Recommend items for a user based on predicted ratings\n",
        "def recommend_items(user, reconstructed_df, n_recommendations=3):\n",
        "    # Get the user's predicted ratings\n",
        "    user_ratings = reconstructed_df.loc[user]\n",
        "    # Sort the ratings in descending order and recommend the top n items\n",
        "    recommended_items = user_ratings.sort_values(ascending=False).head(n_recommendations) # Fixed line continuation\n",
        "    return recommended_items\n",
        "# Step 7: Get recommendations for a specific user (e.g., User1)\n",
        "user_to_recommend = 'User5'\n",
        "recommended_items = recommend_items(user_to_recommend, reconstructed_df_scaled)\n",
        "print(f\"\\nRecommended items for {user_to_recommend}:\")\n",
        "print(recommended_items)\n"
      ],
      "metadata": {
        "colab": {
          "base_uri": "https://localhost:8080/"
        },
        "id": "wu1thPs3Y1Bb",
        "outputId": "050b5666-707e-45d7-e883-672d66e44362"
      },
      "id": "wu1thPs3Y1Bb",
      "execution_count": 26,
      "outputs": [
        {
          "output_type": "stream",
          "name": "stdout",
          "text": [
            "\n",
            "Reconstructed Ratings Matrix (after Min-Max Scaling):\n",
            "          Item1     Item2     Item3     Item4     Item5     Item6\n",
            "User                                                             \n",
            "User1  4.735552  2.480008  4.509602  2.417337  1.675076  2.646484\n",
            "User2  2.992730  1.000000  5.000000  5.000000  3.019685  1.000000\n",
            "User3  5.000000  1.736148  4.863561  2.290684  1.000000  1.502308\n",
            "User4  1.000000  2.836265  2.346215  4.197660  5.000000  2.730294\n",
            "User5  2.383853  5.000000  1.000000  1.000000  4.013128  5.000000\n",
            "\n",
            "Recommended items for User5:\n",
            "Item2    5.000000\n",
            "Item6    5.000000\n",
            "Item5    4.013128\n",
            "Name: User5, dtype: float64\n"
          ]
        }
      ]
    }
  ],
  "metadata": {
    "kernelspec": {
      "display_name": "Python 3",
      "language": "python",
      "name": "python3"
    },
    "language_info": {
      "codemirror_mode": {
        "name": "ipython",
        "version": 3
      },
      "file_extension": ".py",
      "mimetype": "text/x-python",
      "name": "python",
      "nbconvert_exporter": "python",
      "pygments_lexer": "ipython3",
      "version": "3.8.8"
    },
    "latex_envs": {
      "LaTeX_envs_menu_present": true,
      "autoclose": false,
      "autocomplete": true,
      "bibliofile": "biblio.bib",
      "cite_by": "apalike",
      "current_citInitial": 1,
      "eqLabelWithNumbers": true,
      "eqNumInitial": 1,
      "hotkeys": {
        "equation": "Ctrl-E",
        "itemize": "Ctrl-I"
      },
      "labels_anchors": false,
      "latex_user_defs": false,
      "report_style_numbering": false,
      "user_envs_cfg": false
    },
    "varInspector": {
      "cols": {
        "lenName": 16,
        "lenType": 16,
        "lenVar": 40
      },
      "kernels_config": {
        "python": {
          "delete_cmd_postfix": "",
          "delete_cmd_prefix": "del ",
          "library": "var_list.py",
          "varRefreshCmd": "print(var_dic_list())"
        },
        "r": {
          "delete_cmd_postfix": ") ",
          "delete_cmd_prefix": "rm(",
          "library": "var_list.r",
          "varRefreshCmd": "cat(var_dic_list()) "
        }
      },
      "types_to_exclude": [
        "module",
        "function",
        "builtin_function_or_method",
        "instance",
        "_Feature"
      ],
      "window_display": false
    },
    "colab": {
      "provenance": [],
      "collapsed_sections": [
        "4gyXS8T0dzb3",
        "jmQhwYmyNB7U",
        "bqwLpKC4Ng4B",
        "4lO6HmfkOHa5",
        "B5bjJGyPOn5R",
        "UqThERS0ORPH",
        "71coV3x9eLhw",
        "kZL3z1aWnmSk",
        "tVHMJgvBobIV",
        "M1Y-r-i5ojxo"
      ]
    }
  },
  "nbformat": 4,
  "nbformat_minor": 5
}